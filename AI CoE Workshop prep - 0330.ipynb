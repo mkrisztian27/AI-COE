{
 "cells": [
  {
   "cell_type": "markdown",
   "metadata": {},
   "source": [
    "\n",
    "# Boston House Prices\n",
    "In this notebook we are going to build a predictive regression model for esitmating the house prices in thousands of $ given some housing factors such as crime rate in neighborhood, number of schools %, lower status of the population etc.\n",
    "\n",
    "We will apply and elaborate the steps seen in the first Workshop (when applicable).\n",
    "\n",
    "\n",
    "\n",
    "\n",
    "<dl></dl>\n",
    "<dl></dl>\n",
    "\n",
    "**Data Science Cycle:**\n",
    "\n",
    "    Data Understanding\n",
    "        0. Exploratory Data Analysis\n",
    "        \n",
    "    Data Preparation\n",
    "        1. Target Definition\n",
    "        2. Data Splitting\n",
    "        3. Feature Engineering\n",
    "    \n",
    "    Modeling\n",
    "        4. Variable Selection\n",
    "        5. Model Selection\n",
    "        6. Fine-tuning\n",
    "\n",
    "    Evaluation\n",
    "        7. Evaluation & Interpretation\n"
   ]
  },
  {
   "cell_type": "markdown",
   "metadata": {},
   "source": [
    "# Set Up\n",
    "Import required libraries"
   ]
  },
  {
   "cell_type": "code",
   "execution_count": null,
   "metadata": {},
   "outputs": [],
   "source": [
    "#imports - please put in environment>base(root)>open terminal and run\n",
    "'''\n",
    "pip install xgboost\n",
    "pip install numpy\n",
    "pip install scipy\n",
    "pip install statsmodels==0.10.2\n",
    "pip install sklearn\n",
    "pip install boruta\n",
    "pip install datetime\n",
    "'''\n",
    "\n",
    "# Boston Data\n",
    "from sklearn.datasets import load_boston\n",
    "\n",
    "# Data Manipulation & analysis\n",
    "import pandas as pd\n",
    "import numpy as np\n",
    "from scipy import stats\n",
    "\n",
    "# Visualizations\n",
    "import matplotlib\n",
    "import matplotlib.pyplot as plt\n",
    "import seaborn as sns\n",
    "\n",
    "# Data Preparation\n",
    "from sklearn.preprocessing import MinMaxScaler \n",
    "from sklearn.model_selection import train_test_split\n",
    "\n",
    "# Modeling\n",
    "!pip install boruta\n",
    "from boruta import BorutaPy \n",
    "import statsmodels.api as sm \n",
    "import sklearn\n",
    "from sklearn.model_selection import cross_val_score \n",
    "from sklearn.model_selection import RandomizedSearchCV \n",
    "from sklearn import preprocessing\n",
    "from sklearn.linear_model import LinearRegression\n",
    "from sklearn.linear_model import Lasso\n",
    "from sklearn.svm import SVR\n",
    "from sklearn.tree import DecisionTreeRegressor\n",
    "from sklearn.ensemble import RandomForestRegressor\n",
    "from sklearn import ensemble\n",
    "!pip install xgboost\n",
    "import xgboost as xgb\n",
    "\n",
    "# Evaluation\n",
    "from sklearn.metrics import mean_absolute_error, mean_squared_error\n",
    "from sklearn.model_selection import KFold\n",
    "from sklearn.inspection import plot_partial_dependence\n",
    "\n",
    "# Other Set Up\n",
    "from datetime import datetime\n",
    "import os\n",
    "import warnings\n",
    "from pprint import pprint"
   ]
  },
  {
   "cell_type": "code",
   "execution_count": null,
   "metadata": {},
   "outputs": [],
   "source": [
    "#!pip install tensorflow"
   ]
  },
  {
   "cell_type": "markdown",
   "metadata": {},
   "source": [
    "Set styles"
   ]
  },
  {
   "cell_type": "code",
   "execution_count": null,
   "metadata": {},
   "outputs": [],
   "source": [
    "# Set style for displaying data\n",
    "%matplotlib inline\n",
    "pd.set_option('display.max_rows', 500)\n",
    "pd.set_option('display.max_columns', 500)\n",
    "pd.set_option('display.width', 1000)\n",
    "\n",
    "# Set style for plotting\n",
    "sns.set_style(\"whitegrid\")"
   ]
  },
  {
   "cell_type": "markdown",
   "metadata": {},
   "source": [
    "Set Timer"
   ]
  },
  {
   "cell_type": "code",
   "execution_count": null,
   "metadata": {},
   "outputs": [],
   "source": [
    "def timer(start_time=None):\n",
    "    if not start_time:\n",
    "        start_time = datetime.now()\n",
    "        return start_time\n",
    "    elif start_time:\n",
    "        thour, temp_sec = divmod((datetime.now() - start_time).total_seconds(), 3600)\n",
    "        tmin, tsec = divmod(temp_sec, 60)\n",
    "        print('\\n Time taken: %i hours %i minutes and %s seconds.' % (thour, tmin, round(tsec, 2)))"
   ]
  },
  {
   "cell_type": "markdown",
   "metadata": {},
   "source": [
    "Fix random seed for reproducibility"
   ]
  },
  {
   "cell_type": "code",
   "execution_count": null,
   "metadata": {},
   "outputs": [],
   "source": [
    "np.random.seed(42)"
   ]
  },
  {
   "cell_type": "markdown",
   "metadata": {},
   "source": [
    "# Exploratory Data Analysis"
   ]
  },
  {
   "cell_type": "markdown",
   "metadata": {},
   "source": [
    "We will start by exploring Boston data (Step 0) and setting the target (Step 1). \n",
    "\n",
    "Boston dataset is extremely common in machine learning experiments thus it is embedded in sklearn."
   ]
  },
  {
   "cell_type": "code",
   "execution_count": null,
   "metadata": {},
   "outputs": [],
   "source": [
    "# Read Data\n",
    "boston = load_boston()"
   ]
  },
  {
   "cell_type": "markdown",
   "metadata": {},
   "source": [
    "Detailed description of dataset and features"
   ]
  },
  {
   "cell_type": "markdown",
   "metadata": {},
   "source": [
    "Create pandas dataframe with objects in rows and features in columns, and define target.\n",
    "In this study, the target is already given as being the housing price (i.e. \"MEDV\", or the Median value of owner-occupied homes in $1000's)"
   ]
  },
  {
   "cell_type": "code",
   "execution_count": null,
   "metadata": {},
   "outputs": [],
   "source": [
    "# Set panda dataframe\n",
    "boston_data = pd.DataFrame(boston.data)\n",
    "\n",
    "# Set column names\n",
    "boston_data.columns = boston.feature_names\n",
    "\n",
    "# Set target\n",
    "boston_target=pd.DataFrame(boston.target)\n",
    "boston_target.columns=['PRICE']\n",
    "\n",
    "# Merge into 1 data frame\n",
    "boston_df = pd.merge(boston_data,boston_target,left_index = True, right_index = True)\n",
    "\n",
    "# Set X and Y (features and target)\n",
    "X = pd.DataFrame(boston.data, columns=boston.feature_names)\n",
    "Y = boston.target"
   ]
  },
  {
   "cell_type": "code",
   "execution_count": null,
   "metadata": {},
   "outputs": [],
   "source": [
    "# Check first few rows of data\n",
    "boston_df.head()"
   ]
  },
  {
   "cell_type": "code",
   "execution_count": null,
   "metadata": {},
   "outputs": [],
   "source": [
    "# Get descriptive statistics\n",
    "boston_df.describe()"
   ]
  }
 ],
 "metadata": {
  "kernelspec": {
   "display_name": "Python 3",
   "language": "python",
   "name": "python3"
  },
  "language_info": {
   "codemirror_mode": {
    "name": "ipython",
    "version": 3
   },
   "file_extension": ".py",
   "mimetype": "text/x-python",
   "name": "python",
   "nbconvert_exporter": "python",
   "pygments_lexer": "ipython3",
   "version": "3.7.3"
  }
 },
 "nbformat": 4,
 "nbformat_minor": 4
}
